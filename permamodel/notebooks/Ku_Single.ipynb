{
 "cells": [
  {
   "cell_type": "code",
   "execution_count": 1,
   "metadata": {
    "collapsed": false
   },
   "outputs": [
    {
     "name": "stdout",
     "output_type": "stream",
     "text": [
      " \n",
      "Ku model component: Initializing...\n",
      "(1, 1, 1)\n",
      "(1, 1, 1)\n",
      "***\n",
      "Writing output finished!\n",
      "Please look at./Barrow_ALT.nc and ./Barrow_TPS.nc\n",
      "Latitude: 71.3167\n",
      "Longitude: -156.5833\n",
      "Simulated ALT: 0.345932102616 m\n"
     ]
    }
   ],
   "source": [
    "import os,sys\n",
    "sys.path.append('../../permamodel/')\n",
    "\n",
    "from permamodel.components import bmi_Ku_component\n",
    "from permamodel import examples_directory\n",
    "\n",
    "cfg_file = os.path.join(examples_directory, 'Ku_method.cfg')\n",
    "x = bmi_Ku_component.BmiKuMethod()\n",
    "\n",
    "x.initialize(cfg_file)\n",
    "x.update()\n",
    "x.finalize()\n",
    "\n",
    "# print x._values[\"ALT\"][:]\n",
    "print 'Latitude:',x.get_value('latitude')\n",
    "print 'Longitude:',x.get_value('longitude')\n",
    "\n",
    "print 'Simulated ALT:',x.get_value('soil__active_layer_thickness')[0][0],'m'\n"
   ]
  },
  {
   "cell_type": "code",
   "execution_count": 2,
   "metadata": {
    "collapsed": false
   },
   "outputs": [
    {
     "name": "stdout",
     "output_type": "stream",
     "text": [
      "[[ 0.3459321]]\n"
     ]
    }
   ],
   "source": [
    "print x.get_value('soil__active_layer_thickness')"
   ]
  },
  {
   "cell_type": "code",
   "execution_count": null,
   "metadata": {
    "collapsed": true
   },
   "outputs": [],
   "source": []
  }
 ],
 "metadata": {
  "kernelspec": {
   "display_name": "Python 2",
   "language": "python",
   "name": "python2"
  },
  "language_info": {
   "codemirror_mode": {
    "name": "ipython",
    "version": 2
   },
   "file_extension": ".py",
   "mimetype": "text/x-python",
   "name": "python",
   "nbconvert_exporter": "python",
   "pygments_lexer": "ipython2",
   "version": "2.7.13"
  }
 },
 "nbformat": 4,
 "nbformat_minor": 0
}
