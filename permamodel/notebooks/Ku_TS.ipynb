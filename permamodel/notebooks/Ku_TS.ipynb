{
 "cells": [
  {
   "cell_type": "code",
   "execution_count": 10,
   "metadata": {
    "collapsed": false
   },
   "outputs": [
    {
     "name": "stdout",
     "output_type": "stream",
     "text": [
      "../../permamodel/permamodel/examples\n",
      " \n",
      "Ku model component: Initializing...\n",
      "Permafrost component: Finished.\n",
      "Latitude: 71.3167\n",
      "Longitude: -156.5833\n",
      "Start: 2006\n",
      "Start: 2014\n",
      "Simulated ALT:\n",
      "2006 0.646957002107 m\n",
      "2007 0.353532944378 m\n",
      "2008 0.336325265141 m\n",
      "2009 0.399506503134 m\n",
      "2010 0.465708394898 m\n",
      "2011 0.550366160294 m\n",
      "2012 0.557649922207 m\n",
      "2013 0.950001939358 m\n",
      "2014 1.10318752489 m\n"
     ]
    }
   ],
   "source": [
    "import os,sys\n",
    "sys.path.append('../../permamodel/')\n",
    "\n",
    "from permamodel.components import bmi_Ku_component\n",
    "from permamodel import examples_directory\n",
    "import numpy as np\n",
    "\n",
    "print examples_directory\n",
    "\n",
    "cfg_file = os.path.join(examples_directory, 'Ku_method_TS.cfg')\n",
    "x = bmi_Ku_component.BmiKuMethod()\n",
    "\n",
    "x.initialize(cfg_file)\n",
    "x.update()\n",
    "x.finalize()\n",
    "\n",
    "ALT = x.get_value('soil__active_layer_thickness')[0]\n",
    "\n",
    "# print x._values[\"ALT\"][:]\n",
    "print 'Latitude:',x.get_value('latitude')\n",
    "print 'Longitude:',x.get_value('longitude')\n",
    "print 'Start:',x.get_value('datetime__start')\n",
    "print 'Start:',x.get_value('datetime__end')\n",
    "print 'Simulated ALT:'\n",
    "for i in np.arange(np.size(ALT)):\n",
    "    print x.get_value('datetime__start')+i, ALT[i],'m'"
   ]
  },
  {
   "cell_type": "code",
   "execution_count": null,
   "metadata": {
    "collapsed": true
   },
   "outputs": [],
   "source": []
  },
  {
   "cell_type": "code",
   "execution_count": null,
   "metadata": {
    "collapsed": true
   },
   "outputs": [],
   "source": []
  },
  {
   "cell_type": "code",
   "execution_count": null,
   "metadata": {
    "collapsed": true
   },
   "outputs": [],
   "source": []
  },
  {
   "cell_type": "code",
   "execution_count": null,
   "metadata": {
    "collapsed": true
   },
   "outputs": [],
   "source": []
  }
 ],
 "metadata": {
  "kernelspec": {
   "display_name": "Python 2",
   "language": "python",
   "name": "python2"
  },
  "language_info": {
   "codemirror_mode": {
    "name": "ipython",
    "version": 2
   },
   "file_extension": ".py",
   "mimetype": "text/x-python",
   "name": "python",
   "nbconvert_exporter": "python",
   "pygments_lexer": "ipython2",
   "version": "2.7.13"
  }
 },
 "nbformat": 4,
 "nbformat_minor": 0
}
