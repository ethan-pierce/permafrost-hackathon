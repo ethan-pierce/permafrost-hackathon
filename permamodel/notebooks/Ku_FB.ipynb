{
 "cells": [
  {
   "cell_type": "code",
   "execution_count": 1,
   "metadata": {
    "collapsed": false
   },
   "outputs": [
    {
     "name": "stdout",
     "output_type": "stream",
     "text": [
      "../../permamodel/permamodel/examples\n",
      " \n",
      "Ku model component: Initializing...\n",
      "1961\n",
      "1961.0 [[ 0.69418867]]\n",
      "1962.0 [[ 0.71536188]]\n",
      "1963.0 [[ 0.66753205]]\n",
      "1964.0 [[ 0.71083445]]\n",
      "1965.0 [[ 0.6666394]]\n",
      "1966.0 [[ 0.82993513]]\n",
      "1967.0 [[ 0.76939804]]\n",
      "1968.0 [[ 0.78351557]]\n",
      "1969.0 [[ 0.87131773]]\n",
      "1970.0 [[ 0.77229033]]\n",
      "1971.0 [[ 0.90926955]]\n",
      "1972.0 [[ 0.74712025]]\n",
      "1973.0 [[ 0.76153674]]\n",
      "1974.0 [[ 0.74970142]]\n",
      "1975.0 [[ 0.81587412]]\n",
      "1976.0 [[ 0.72142697]]\n",
      "1977.0 [[ 0.76928164]]\n",
      "1978.0 [[ 0.6836194]]\n",
      "1979.0 [[ 0.83374124]]\n",
      "1980.0 [[ 0.81643145]]\n",
      "1981.0 [[ 0.7015189]]\n",
      "1982.0 [[ 0.78516056]]\n",
      "1983.0 [[ 0.76314653]]\n",
      "1984.0 [[ 0.73735054]]\n",
      "1985.0 [[ 0.7477651]]\n",
      "1986.0 [[ 0.6429555]]\n",
      "1987.0 [[ 0.70855547]]\n",
      "1988.0 [[ 0.73023781]]\n",
      "1989.0 [[ 0.86558893]]\n",
      "1990.0 [[ 0.8781088]]\n",
      "1991.0 [[ 0.77073081]]\n",
      "1992.0 [[ 0.71583742]]\n",
      "1993.0 [[ 0.82443022]]\n",
      "1994.0 [[ 0.73155058]]\n",
      "1995.0 [[ 0.73440906]]\n",
      "1996.0 [[ 0.71867193]]\n",
      "1997.0 [[ 0.82796549]]\n",
      "1998.0 [[ 0.74287114]]\n",
      "1999.0 [[ 0.65612724]]\n",
      "2000.0 [[ 0.7257552]]\n",
      "2001.0 [[ 0.70091404]]\n",
      "2002.0 [[ 0.65123478]]\n",
      "2003.0 [[ 0.69363075]]\n",
      "2004.0 [[ 0.83696572]]\n",
      "2005.0 [[ 0.74170095]]\n",
      "***\n",
      "Writing output finished!\n",
      "Please look at./Fairbanks_ALT.nc and ./Fairbanks_TPS.nc\n"
     ]
    }
   ],
   "source": [
    "import os,sys\n",
    "sys.path.append('../../permamodel/')\n",
    "\n",
    "from permamodel.components import bmi_Ku_component\n",
    "from permamodel import examples_directory\n",
    "import numpy as np\n",
    "\n",
    "print examples_directory\n",
    "\n",
    "cfg_file = os.path.join(examples_directory, 'Ku_method_TS_FB.cfg')\n",
    "x = bmi_Ku_component.BmiKuMethod()\n",
    "\n",
    "x.initialize(cfg_file)\n",
    "\n",
    "y0 = x.get_value('datetime__start')\n",
    "y1 = x.get_value('datetime__end')\n",
    "print y0\n",
    "\n",
    "for i in np.linspace(y0,y1,y1-y0+1):\n",
    "    \n",
    "    x.update()\n",
    "\n",
    "    print i, x.get_value('soil__active_layer_thickness')\n",
    "\n",
    "x.finalize()"
   ]
  },
  {
   "cell_type": "code",
   "execution_count": 2,
   "metadata": {
    "collapsed": false
   },
   "outputs": [
    {
     "name": "stdout",
     "output_type": "stream",
     "text": [
      "[ 0.69418867  0.71536188  0.66753205  0.71083445  0.6666394   0.82993513\n",
      "  0.76939804  0.78351557  0.87131773  0.77229033  0.90926955  0.74712025\n",
      "  0.76153674  0.74970142  0.81587412  0.72142697  0.76928164  0.6836194\n",
      "  0.83374124  0.81643145  0.7015189   0.78516056  0.76314653  0.73735054\n",
      "  0.7477651   0.6429555   0.70855547  0.73023781  0.86558893  0.8781088\n",
      "  0.77073081  0.71583742  0.82443022  0.73155058  0.73440906  0.71867193\n",
      "  0.82796549  0.74287114  0.65612724  0.7257552   0.70091404  0.65123478\n",
      "  0.69363075  0.83696572  0.74170095]\n"
     ]
    }
   ],
   "source": [
    "print x.output_alt"
   ]
  },
  {
   "cell_type": "code",
   "execution_count": null,
   "metadata": {
    "collapsed": true
   },
   "outputs": [],
   "source": []
  },
  {
   "cell_type": "code",
   "execution_count": null,
   "metadata": {
    "collapsed": true
   },
   "outputs": [],
   "source": []
  }
 ],
 "metadata": {
  "kernelspec": {
   "display_name": "Python 2",
   "language": "python",
   "name": "python2"
  },
  "language_info": {
   "codemirror_mode": {
    "name": "ipython",
    "version": 2
   },
   "file_extension": ".py",
   "mimetype": "text/x-python",
   "name": "python",
   "nbconvert_exporter": "python",
   "pygments_lexer": "ipython2",
   "version": "2.7.13"
  }
 },
 "nbformat": 4,
 "nbformat_minor": 0
}
