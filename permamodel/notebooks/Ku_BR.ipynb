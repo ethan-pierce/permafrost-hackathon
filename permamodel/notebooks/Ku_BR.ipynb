{
 "cells": [
  {
   "cell_type": "code",
   "execution_count": 1,
   "metadata": {
    "collapsed": false
   },
   "outputs": [
    {
     "name": "stdout",
     "output_type": "stream",
     "text": [
      "../../permamodel/permamodel/examples\n",
      " \n",
      "Ku model component: Initializing...\n",
      "1961\n",
      "1961.0 [[ 0.37234159]]\n",
      "1962.0 [[ 0.42733587]]\n",
      "1963.0 [[ 0.29187583]]\n",
      "1964.0 [[ 0.22297686]]\n",
      "1965.0 [[ 0.37756858]]\n",
      "1966.0 [[ 0.29961422]]\n",
      "1967.0 [[ 0.22328948]]\n",
      "1968.0 [[ 0.4857354]]\n",
      "1969.0 [[ 0.14783408]]\n",
      "1970.0 [[ 0.08907631]]\n",
      "1971.0 [[ 0.32764397]]\n",
      "1972.0 [[ 0.35777724]]\n",
      "1973.0 [[ 0.37369064]]\n",
      "1974.0 [[ 0.29224675]]\n",
      "1975.0 [[ 0.17294533]]\n",
      "1976.0 [[ 0.23989769]]\n",
      "1977.0 [[ 0.41922088]]\n",
      "1978.0 [[ 0.20155863]]\n",
      "1979.0 [[ 0.50368726]]\n",
      "1980.0 [[ 0.12838608]]\n",
      "1981.0 [[ 0.2902976]]\n",
      "1982.0 [[ 0.09021524]]\n",
      "1983.0 [[ 0.21012987]]\n",
      "1984.0 [[ 0.4546595]]\n",
      "1985.0 [[ 0.24929641]]\n",
      "1986.0 [[ 0.36063076]]\n",
      "1987.0 [[ 0.28130913]]\n",
      "1988.0 [[ 0.08233295]]\n",
      "1989.0 [[ 0.57221686]]\n",
      "1990.0 [[ 0.37713874]]\n",
      "1991.0 [[ 0.21292863]]\n",
      "1992.0 [[ 0.30104272]]\n",
      "1993.0 [[ 0.44842425]]\n",
      "1994.0 [[ 0.30371672]]\n",
      "1995.0 [[ 0.35306359]]\n",
      "1996.0 [[ 0.39430055]]\n",
      "1997.0 [[ 0.41034349]]\n",
      "1998.0 [[ 0.61136324]]\n",
      "1999.0 [[ 0.35822753]]\n",
      "2000.0 [[ 0.24486801]]\n",
      "2001.0 [[ 0.23825356]]\n",
      "2002.0 [[ 0.41334564]]\n",
      "2003.0 [[ 0.37871166]]\n",
      "2004.0 [[ 0.5338234]]\n",
      "2005.0 [[ 0.3663825]]\n",
      "2006.0 [[ 0.43996653]]\n",
      "2007.0 [[ 0.55033383]]\n",
      "2008.0 [[ 0.43019239]]\n",
      "2009.0 [[ 0.48779834]]\n",
      "2010.0 [[ 0.49218728]]\n",
      "2011.0 [[ 0.33378861]]\n",
      "2012.0 [[ 0.565612]]\n",
      "2013.0 [[ 0.50760467]]\n",
      "2014.0 [[ 0.21914944]]\n",
      "2015.0 [[ 0.30347018]]\n",
      "***\n",
      "Writing output finished!\n",
      "Please look at./Barrow_ALT.nc and ./Barrow_TPS.nc\n"
     ]
    }
   ],
   "source": [
    "import os,sys\n",
    "sys.path.append('../../permamodel/')\n",
    "\n",
    "from permamodel.components import bmi_Ku_component\n",
    "from permamodel import examples_directory\n",
    "import numpy as np\n",
    "\n",
    "print examples_directory\n",
    "\n",
    "cfg_file = os.path.join(examples_directory, 'Ku_method_TS_BR.cfg')\n",
    "x = bmi_Ku_component.BmiKuMethod()\n",
    "\n",
    "x.initialize(cfg_file)\n",
    "y0 = x.get_value('datetime__start')\n",
    "y1 = x.get_value('datetime__end')\n",
    "print y0\n",
    "\n",
    "for i in np.linspace(y0,y1,y1-y0+1):\n",
    "    \n",
    "    x.update()\n",
    "\n",
    "    print i, x.get_value('soil__active_layer_thickness')\n",
    "\n",
    "x.finalize()"
   ]
  },
  {
   "cell_type": "code",
   "execution_count": 2,
   "metadata": {
    "collapsed": false
   },
   "outputs": [
    {
     "data": {
      "image/png": "[encoded data removed]",
      "text/plain": [
       "<matplotlib.figure.Figure at 0x115048550>"
      ]
     },
     "metadata": {},
     "output_type": "display_data"
    }
   ],
   "source": [
    "from netCDF4 import Dataset\n",
    "%matplotlib inline\n",
    "import matplotlib.pyplot as plt\n",
    "fid = Dataset(\"./Barrow_ALT.nc\")\n",
    "time = fid.variables['time'][:]\n",
    "ALT  = fid.variables['data'][:,0,0]\n",
    "\n",
    "plt.plot(time, ALT)\n",
    "plt.xlabel('Year')\n",
    "plt.ylabel('ALT (m)')\n",
    "plt.xlim([1960,2016])\n",
    "plt.ylim([1,0])\n",
    "\n",
    "plt.show()"
   ]
  },
  {
   "cell_type": "code",
   "execution_count": null,
   "metadata": {
    "collapsed": true
   },
   "outputs": [],
   "source": []
  },
  {
   "cell_type": "code",
   "execution_count": null,
   "metadata": {
    "collapsed": true
   },
   "outputs": [],
   "source": []
  }
 ],
 "metadata": {
  "kernelspec": {
   "display_name": "Python 2",
   "language": "python",
   "name": "python2"
  },
  "language_info": {
   "codemirror_mode": {
    "name": "ipython",
    "version": 2
   },
   "file_extension": ".py",
   "mimetype": "text/x-python",
   "name": "python",
   "nbconvert_exporter": "python",
   "pygments_lexer": "ipython2",
   "version": "2.7.13"
  }
 },
 "nbformat": 4,
 "nbformat_minor": 0
}
