{
 "cells": [
  {
   "cell_type": "code",
   "execution_count": 1,
   "metadata": {
    "collapsed": false
   },
   "outputs": [
    {
     "name": "stdout",
     "output_type": "stream",
     "text": [
      "Importing PermaModel packages:\n",
      "   permamodel.utils\n",
      "   permamodel.components\n",
      " \n"
     ]
    }
   ],
   "source": [
    "from permamodel.components import Ku_component "
   ]
  },
  {
   "cell_type": "code",
   "execution_count": 2,
   "metadata": {
    "collapsed": true
   },
   "outputs": [],
   "source": [
    "x=Ku_component"
   ]
  },
  {
   "cell_type": "code",
   "execution_count": 3,
   "metadata": {
    "collapsed": false
   },
   "outputs": [
    {
     "data": {
      "text/plain": [
       "{'author_name': 'Kang Wang and Elchin Jafarov',\n",
       " 'cfg_extension': '_ku_model.cfg',\n",
       " 'cmt_var_prefix': '/input/',\n",
       " 'comp_name': 'Ku_model',\n",
       " 'grid_type': 'none',\n",
       " 'gui_yaml_file': '/input/ku_model.yaml',\n",
       " 'model_family': 'PermaModel',\n",
       " 'model_name': 'PermaModel_Kudryavtsev_method',\n",
       " 'step_method': 'explicit',\n",
       " 'time_step_type': 'fixed',\n",
       " 'time_units': 'years',\n",
       " 'version': '0.1'}"
      ]
     },
     "execution_count": 3,
     "metadata": {},
     "output_type": "execute_result"
    }
   ],
   "source": [
    "x.Ku_method._att_map"
   ]
  },
  {
   "cell_type": "code",
   "execution_count": 4,
   "metadata": {
    "collapsed": false
   },
   "outputs": [
    {
     "data": {
      "text/plain": [
       "{'atmosphere_bottom_air__temperature': 'T_air',\n",
       " 'atmosphere_bottom_air__temperature_amplitude': 'A_air',\n",
       " 'latitude': 'lat',\n",
       " 'longitude': 'lon',\n",
       " 'snowpack__density': 'rho_snow',\n",
       " 'snowpack__depth': 'h_snow',\n",
       " 'vegetation__Dvf': 'Dvf',\n",
       " 'vegetation__Dvt': 'Dvt',\n",
       " 'vegetation__Hvgf': 'Hvgf',\n",
       " 'vegetation__Hvgt': 'Hvgt',\n",
       " 'water-liquid__volumetric-water-content-soil': 'vwc_H2O'}"
      ]
     },
     "execution_count": 4,
     "metadata": {},
     "output_type": "execute_result"
    }
   ],
   "source": [
    "x.Ku_method._var_name_map"
   ]
  },
  {
   "cell_type": "code",
   "execution_count": 5,
   "metadata": {
    "collapsed": false
   },
   "outputs": [
    {
     "data": {
      "text/plain": [
       "{'atmosphere_bottom_air__temperature': 'deg_C',\n",
       " 'atmosphere_bottom_air__temperature_amplitude': 'deg_C',\n",
       " 'latitude': 'lat',\n",
       " 'longitude': 'lon',\n",
       " 'snowpack__density': 'kg m-3',\n",
       " 'snowpack__depth': 'm',\n",
       " 'vegetation__Dvf': 'm2 s',\n",
       " 'vegetation__Dvt': 'm2 s',\n",
       " 'vegetation__Hvgf': 'm',\n",
       " 'vegetation__Hvgt': 'm',\n",
       " 'water-liquid__volumetric-water-content-soil': 'm3 m-3'}"
      ]
     },
     "execution_count": 5,
     "metadata": {},
     "output_type": "execute_result"
    }
   ],
   "source": [
    "x.Ku_method._var_units_map"
   ]
  },
  {
   "cell_type": "code",
   "execution_count": null,
   "metadata": {
    "collapsed": true
   },
   "outputs": [],
   "source": []
  }
 ],
 "metadata": {
  "kernelspec": {
   "display_name": "Python 2",
   "language": "python",
   "name": "python2"
  },
  "language_info": {
   "codemirror_mode": {
    "name": "ipython",
    "version": 2
   },
   "file_extension": ".py",
   "mimetype": "text/x-python",
   "name": "python",
   "nbconvert_exporter": "python",
   "pygments_lexer": "ipython2",
   "version": "2.7.11"
  }
 },
 "nbformat": 4,
 "nbformat_minor": 0
}
